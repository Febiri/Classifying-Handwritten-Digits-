{
 "cells": [
  {
   "cell_type": "code",
   "execution_count": 15,
   "id": "d668c638",
   "metadata": {},
   "outputs": [],
   "source": [
    "# Import all the required libraries\n",
    "import numpy as np\n",
    "import matplotlib.pyplot as plt\n",
    "from sklearn.datasets import fetch_openml\n",
    "from sklearn.model_selection import train_test_split\n",
    "from sklearn.preprocessing import StandardScaler\n",
    "from sklearn.svm import SVC\n",
    "from sklearn.ensemble import RandomForestClassifier\n",
    "from sklearn.neighbors import KNeighborsClassifier\n",
    "from sklearn.metrics import accuracy_score, classification_report, confusion_matrix"
   ]
  },
  {
   "cell_type": "code",
   "execution_count": 16,
   "id": "11d01164",
   "metadata": {},
   "outputs": [],
   "source": [
    "# Load the MNIST dataset\n",
    "mnist = fetch_openml('mnist_784')\n",
    "X, y = mnist['data'], mnist['target']"
   ]
  },
  {
   "cell_type": "code",
   "execution_count": 17,
   "id": "06f3e811",
   "metadata": {},
   "outputs": [],
   "source": [
    "# Normalize pixel values\n",
    "X = X/255.0"
   ]
  },
  {
   "cell_type": "code",
   "execution_count": 18,
   "id": "3279145c",
   "metadata": {},
   "outputs": [],
   "source": [
    "# Split the dataset into training and  test sets\n",
    "X_train, X_test, y_train, y_test = train_test_split(X, y, test_size=0.2, random_state=42)"
   ]
  },
  {
   "cell_type": "code",
   "execution_count": 19,
   "id": "ecdb492b",
   "metadata": {},
   "outputs": [],
   "source": [
    "# Feature scaling \n",
    "scaler = StandardScaler()\n",
    "X_train_scaled = scaler.fit_transform(X_train)\n",
    "X_test_scaled = scaler.fit_transform(X_test)"
   ]
  },
  {
   "cell_type": "code",
   "execution_count": 27,
   "id": "950a28d2",
   "metadata": {},
   "outputs": [],
   "source": [
    "# Train SVM classifier\n",
    "svm_clf = SVC(kernel='rbf', C=10, gamma=0.01, random_state=42)\n",
    "svm_clf.fit(X_train_scaled, y_train)\n",
    "svm_pred = svm_clf.predict(X_test_scaled)"
   ]
  },
  {
   "cell_type": "code",
   "execution_count": 21,
   "id": "a9491efb",
   "metadata": {},
   "outputs": [],
   "source": [
    "# Train Random Forest classifier\n",
    "rf_clf = RandomForestClassifier(n_estimators=100, random_state=42)\n",
    "rf_clf.fit(X_train_scaled, y_train)\n",
    "rf_pred = rf_clf.predict(X_test_scaled)"
   ]
  },
  {
   "cell_type": "code",
   "execution_count": 22,
   "id": "d5182201",
   "metadata": {},
   "outputs": [],
   "source": [
    "# Train K-NN classifier\n",
    "knn_clf = KNeighborsClassifier(n_neighbors=5)\n",
    "knn_clf.fit(X_train_scaled, y_train)\n",
    "knn_pred = knn_clf.predict(X_test_scaled)"
   ]
  },
  {
   "cell_type": "code",
   "execution_count": 23,
   "id": "98176205",
   "metadata": {},
   "outputs": [],
   "source": [
    "# Evaluate models\n",
    "def evaluate_model(y_true, y_pred, model_name):\n",
    "    accuracy = accuracy_score(y_true, y_pred)\n",
    "    print(f\"{model_name} Accuracy: {accuracy:.4f}\")\n",
    "    print(classification_report(y_true, y_pred))\n",
    "    plt.figure(figsize=(10,7))\n",
    "    cm = confusion_matrix(y_true, y_pred)\n",
    "    plt.matshow(cm, cmap=plt.cm.Blues)\n",
    "    plt.colorbar()\n",
    "    plt.xlabel('Predicted')\n",
    "    plt.ylabel('True')\n",
    "    plt.title(f\"{model_name} Confusion Matrix\")\n",
    "    plt.show"
   ]
  },
  {
   "cell_type": "code",
   "execution_count": 24,
   "id": "4c4592fb",
   "metadata": {},
   "outputs": [
    {
     "name": "stdout",
     "output_type": "stream",
     "text": [
      "K-NN Accuracy: 0.9460\n",
      "              precision    recall  f1-score   support\n",
      "\n",
      "           0       0.97      0.98      0.97      1343\n",
      "           1       0.95      0.99      0.97      1600\n",
      "           2       0.95      0.93      0.94      1380\n",
      "           3       0.93      0.95      0.94      1433\n",
      "           4       0.94      0.93      0.94      1295\n",
      "           5       0.94      0.94      0.94      1273\n",
      "           6       0.96      0.98      0.97      1396\n",
      "           7       0.94      0.93      0.94      1503\n",
      "           8       0.97      0.90      0.93      1357\n",
      "           9       0.90      0.92      0.91      1420\n",
      "\n",
      "    accuracy                           0.95     14000\n",
      "   macro avg       0.95      0.95      0.95     14000\n",
      "weighted avg       0.95      0.95      0.95     14000\n",
      "\n"
     ]
    },
    {
     "data": {
      "text/plain": [
       "<Figure size 720x504 with 0 Axes>"
      ]
     },
     "metadata": {},
     "output_type": "display_data"
    },
    {
     "data": {
      "image/png": "[encoded data removed]",
      "text/plain": [
       "<Figure size 288x288 with 2 Axes>"
      ]
     },
     "metadata": {
      "needs_background": "light"
     },
     "output_type": "display_data"
    }
   ],
   "source": [
    "evaluate_model(y_test, knn_pred, \"K-NN\")"
   ]
  },
  {
   "cell_type": "code",
   "execution_count": 25,
   "id": "54d6ee48",
   "metadata": {},
   "outputs": [
    {
     "name": "stdout",
     "output_type": "stream",
     "text": [
      "SVM Accuracy: 0.8580\n",
      "              precision    recall  f1-score   support\n",
      "\n",
      "           0       0.99      0.89      0.94      1343\n",
      "           1       0.99      0.98      0.98      1600\n",
      "           2       0.44      0.99      0.60      1380\n",
      "           3       0.96      0.77      0.86      1433\n",
      "           4       0.97      0.84      0.90      1295\n",
      "           5       0.98      0.81      0.89      1273\n",
      "           6       0.99      0.80      0.89      1396\n",
      "           7       0.98      0.80      0.88      1503\n",
      "           8       0.98      0.82      0.89      1357\n",
      "           9       0.97      0.86      0.91      1420\n",
      "\n",
      "    accuracy                           0.86     14000\n",
      "   macro avg       0.93      0.86      0.87     14000\n",
      "weighted avg       0.93      0.86      0.88     14000\n",
      "\n"
     ]
    },
    {
     "data": {
      "text/plain": [
       "<Figure size 720x504 with 0 Axes>"
      ]
     },
     "metadata": {},
     "output_type": "display_data"
    },
    {
     "data": {
      "image/png": "[encoded data removed]",
      "text/plain": [
       "<Figure size 288x288 with 2 Axes>"
      ]
     },
     "metadata": {
      "needs_background": "light"
     },
     "output_type": "display_data"
    }
   ],
   "source": [
    "evaluate_model(y_test, svm_pred, \"SVM\")"
   ]
  },
  {
   "cell_type": "code",
   "execution_count": 26,
   "id": "51bbad88",
   "metadata": {},
   "outputs": [
    {
     "name": "stdout",
     "output_type": "stream",
     "text": [
      "Random Forest Accuracy: 0.9316\n",
      "              precision    recall  f1-score   support\n",
      "\n",
      "           0       0.97      0.98      0.97      1343\n",
      "           1       1.00      0.93      0.96      1600\n",
      "           2       0.93      0.93      0.93      1380\n",
      "           3       0.90      0.93      0.91      1433\n",
      "           4       0.94      0.95      0.94      1295\n",
      "           5       0.88      0.96      0.92      1273\n",
      "           6       0.97      0.97      0.97      1396\n",
      "           7       0.99      0.84      0.91      1503\n",
      "           8       0.82      0.96      0.89      1357\n",
      "           9       0.94      0.87      0.91      1420\n",
      "\n",
      "    accuracy                           0.93     14000\n",
      "   macro avg       0.93      0.93      0.93     14000\n",
      "weighted avg       0.94      0.93      0.93     14000\n",
      "\n"
     ]
    },
    {
     "data": {
      "text/plain": [
       "<Figure size 720x504 with 0 Axes>"
      ]
     },
     "metadata": {},
     "output_type": "display_data"
    },
    {
     "data": {
      "image/png": "[encoded data removed]",
      "text/plain": [
       "<Figure size 288x288 with 2 Axes>"
      ]
     },
     "metadata": {
      "needs_background": "light"
     },
     "output_type": "display_data"
    }
   ],
   "source": [
    "evaluate_model(y_test, rf_pred, \"Random Forest\")"
   ]
  }
 ],
 "metadata": {
  "kernelspec": {
   "display_name": "Python 3 (ipykernel)",
   "language": "python",
   "name": "python3"
  },
  "language_info": {
   "codemirror_mode": {
    "name": "ipython",
    "version": 3
   },
   "file_extension": ".py",
   "mimetype": "text/x-python",
   "name": "python",
   "nbconvert_exporter": "python",
   "pygments_lexer": "ipython3",
   "version": "3.9.12"
  }
 },
 "nbformat": 4,
 "nbformat_minor": 5
}
